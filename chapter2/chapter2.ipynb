{
 "cells": [
  {
   "cell_type": "code",
   "execution_count": 41,
   "metadata": {},
   "outputs": [
    {
     "ename": "ImportError",
     "evalue": "cannot import name 'bootstrap' from 'scipy.stats' (/opt/anaconda3/lib/python3.8/site-packages/scipy/stats/__init__.py)",
     "output_type": "error",
     "traceback": [
      "\u001b[0;31m---------------------------------------------------------------------------\u001b[0m",
      "\u001b[0;31mImportError\u001b[0m                               Traceback (most recent call last)",
      "\u001b[0;32m<ipython-input-41-c3638ea5821f>\u001b[0m in \u001b[0;36m<module>\u001b[0;34m\u001b[0m\n\u001b[1;32m      6\u001b[0m \u001b[0;32mimport\u001b[0m \u001b[0mmatplotlib\u001b[0m \u001b[0;32mas\u001b[0m \u001b[0mmp\u001b[0m\u001b[0;34m\u001b[0m\u001b[0;34m\u001b[0m\u001b[0m\n\u001b[1;32m      7\u001b[0m \u001b[0;32mimport\u001b[0m \u001b[0mmatplotlib\u001b[0m\u001b[0;34m.\u001b[0m\u001b[0mpyplot\u001b[0m \u001b[0;32mas\u001b[0m \u001b[0mplt\u001b[0m\u001b[0;34m\u001b[0m\u001b[0;34m\u001b[0m\u001b[0m\n\u001b[0;32m----> 8\u001b[0;31m \u001b[0;32mfrom\u001b[0m \u001b[0mscipy\u001b[0m\u001b[0;34m.\u001b[0m\u001b[0mstats\u001b[0m \u001b[0;32mimport\u001b[0m \u001b[0mbootstrap\u001b[0m\u001b[0;34m\u001b[0m\u001b[0;34m\u001b[0m\u001b[0m\n\u001b[0m",
      "\u001b[0;31mImportError\u001b[0m: cannot import name 'bootstrap' from 'scipy.stats' (/opt/anaconda3/lib/python3.8/site-packages/scipy/stats/__init__.py)"
     ]
    }
   ],
   "source": [
    "#import required packages\n",
    "\n",
    "import os\n",
    "import pandas as p\n",
    "import numpy as np\n",
    "import matplotlib as mp\n",
    "import matplotlib.pyplot as plt\n",
    "from scipy.stats import bootstrap\n"
   ]
  },
  {
   "cell_type": "code",
   "execution_count": 2,
   "metadata": {},
   "outputs": [],
   "source": [
    "os.getcwd()\n",
    "os.chdir(\"/Users/susheel/Documents/GitHub/statistics-for-data-scientists/data\")   #FILE DIRECTORY IN QUOTES\n",
    "#os.listdir()"
   ]
  },
  {
   "cell_type": "code",
   "execution_count": 46,
   "metadata": {
    "collapsed": true
   },
   "outputs": [
    {
     "name": "stderr",
     "output_type": "stream",
     "text": [
      "<ipython-input-46-085c5f7b72ec>:39: MatplotlibDeprecationWarning: Adding an axes using the same arguments as a previous axes currently reuses the earlier instance.  In a future version, a new instance will always be created and returned.  Meanwhile, this warning can be suppressed, and the future behavior ensured, by passing a unique label to each axes instance.\n",
      "  plt.subplot(3, 1, 1).title.set_text('Data')\n",
      "<ipython-input-46-085c5f7b72ec>:43: MatplotlibDeprecationWarning: Adding an axes using the same arguments as a previous axes currently reuses the earlier instance.  In a future version, a new instance will always be created and returned.  Meanwhile, this warning can be suppressed, and the future behavior ensured, by passing a unique label to each axes instance.\n",
      "  plt.subplot(3, 1, 2).title.set_text('Mean of 5')\n",
      "<ipython-input-46-085c5f7b72ec>:47: MatplotlibDeprecationWarning: Adding an axes using the same arguments as a previous axes currently reuses the earlier instance.  In a future version, a new instance will always be created and returned.  Meanwhile, this warning can be suppressed, and the future behavior ensured, by passing a unique label to each axes instance.\n",
      "  plt.subplot(3, 1, 3).title.set_text('Mean of 20')\n"
     ]
    },
    {
     "data": {
      "image/png": "[encoded data removed]",
      "text/plain": [
       "<Figure size 432x288 with 3 Axes>"
      ]
     },
     "metadata": {
      "needs_background": "light"
     },
     "output_type": "display_data"
    }
   ],
   "source": [
    "# TASK: demonstrate Central Limit Theorem from sample of 5 and 20 with histograms\n",
    "\n",
    "df = p.read_csv(filepath_or_buffer = \"loans_income.csv\")\n",
    "#read in the datafile\n",
    "\n",
    "sampled_df = p.DataFrame()\n",
    "sampled_df['income'], sampled_df['type'] = df['x'].sample(n = 1000, replace = True), 'data_dist'\n",
    "#simple random sample of 1000 values from dataset, this is just to show the DATA DISTRIBUTION and how its DISTRIBUTION is different from the SAMPLING DISTRIBUTION\n",
    "\n",
    "\n",
    "\n",
    "sample_size = 5\n",
    "num_samples = 1000\n",
    "sampling_results_5 = p.DataFrame({'mean': np.zeros(num_samples)})\n",
    "\n",
    "for sample_num in range(num_samples): \n",
    "    sample = df.sample(sample_size)\n",
    "    sampling_results_5.loc[sample_num, 'mean'] = sample['x'].mean()\n",
    "#sample of means of 5 values\n",
    "#https://statsthinking21.github.io/statsthinking21-python/06-Sampling.html\n",
    "\n",
    "sample_size = 20\n",
    "num_samples = 1000\n",
    "sampling_results_20 = p.DataFrame({'mean': np.zeros(num_samples)})\n",
    "\n",
    "for sample_num in range(num_samples):\n",
    "    sample = df.sample(sample_size)\n",
    "    sampling_results_20.loc[sample_num, 'mean'] = sample['x'].mean()\n",
    "#sample of means of 20 values\n",
    "\n",
    "sampling_results_5 = sampling_results_5.rename(columns = {'mean': 'income'})\n",
    "sampling_results_20 = sampling_results_20.rename(columns = {'mean': 'income'})\n",
    "\n",
    "sampling_results_5['type'] = 'mean_of_5'\n",
    "sampling_results_20['type'] = 'mean_of_20'\n",
    "\n",
    "plt.subplot(3, 1, 1)\n",
    "plt.hist(sampled_df['income'], bins = 40)\n",
    "plt.subplot(3, 1, 1).title.set_text('Data')\n",
    "\n",
    "plt.subplot(3, 1, 2)\n",
    "plt.hist(sampling_results_5['income'], bins = 40)\n",
    "plt.subplot(3, 1, 2).title.set_text('Mean of 5')\n",
    "\n",
    "plt.subplot(3, 1, 3)\n",
    "plt.hist(sampling_results_20['income'], bins = 40)\n",
    "plt.subplot(3, 1, 3).title.set_text('Mean of 20')\n",
    "#not the best way to plot but a different way than chapter 1, and best to suppress the warnings and increase vertical spacing between the histograms"
   ]
  },
  {
   "cell_type": "code",
   "execution_count": 50,
   "metadata": {},
   "outputs": [
    {
     "name": "stdout",
     "output_type": "stream",
     "text": [
      "62000.0\n"
     ]
    },
    {
     "data": {
      "text/plain": [
       "(array([3.00e+00, 1.00e+00, 3.61e+02, 1.93e+02, 4.72e+02, 3.84e+02,\n",
       "        8.57e+03, 1.30e+01, 2.00e+00, 1.00e+00]),\n",
       " array([60500. , 60739.5, 60979. , 61218.5, 61458. , 61697.5, 61937. ,\n",
       "        62176.5, 62416. , 62655.5, 62895. ]),\n",
       " <BarContainer object of 10 artists>)"
      ]
     },
     "execution_count": 50,
     "metadata": {},
     "output_type": "execute_result"
    },
    {
     "data": {
      "image/png": "[encoded data removed]",
      "text/plain": [
       "<Figure size 432x288 with 1 Axes>"
      ]
     },
     "metadata": {
      "needs_background": "light"
     },
     "output_type": "display_data"
    }
   ],
   "source": [
    "#TASK:  compare median of income from original loans dataset vs a bootstrapped sample\n",
    "\n",
    "print(np.median(df['x']))\n",
    "#62000\n",
    "\n",
    "#df = (df, )\n",
    "#samples must be in a sequence\n",
    "\n",
    "sample_median = []\n",
    "for i in range(10000): \n",
    "    sample_n = np.random.choice(df['x'], size = len(df))\n",
    "    sample_median.append(np.median(sample_n))\n",
    "    \n",
    "plt.hist(sample_median)\n",
    "#it looks like the bootstrap method in scipy is mainly used to calculate confidence intervals of a statistic, in this case, i just wanted the statistic\n",
    "#REFERENCE: https://datasciencechalktalk.wordpress.com/2019/11/12/bootstrap-sampling-an-implementation-with-python/"
   ]
  },
  {
   "cell_type": "code",
   "execution_count": null,
   "metadata": {},
   "outputs": [],
   "source": []
  }
 ],
 "metadata": {
  "kernelspec": {
   "display_name": "Python 3",
   "language": "python",
   "name": "python3"
  },
  "language_info": {
   "codemirror_mode": {
    "name": "ipython",
    "version": 3
   },
   "file_extension": ".py",
   "mimetype": "text/x-python",
   "name": "python",
   "nbconvert_exporter": "python",
   "pygments_lexer": "ipython3",
   "version": "3.8.5"
  }
 },
 "nbformat": 4,
 "nbformat_minor": 4
}
