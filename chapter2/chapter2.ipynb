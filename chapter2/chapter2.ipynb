{
 "cells": [
  {
   "cell_type": "code",
   "execution_count": 15,
   "metadata": {},
   "outputs": [],
   "source": [
    "#import required packages\n",
    "\n",
    "import os\n",
    "import pandas as p\n",
    "import numpy as np\n",
    "from numpy import random\n",
    "import matplotlib as mp\n",
    "import matplotlib.pyplot as plt\n",
    "#from scipy.stats import bootstrap\n",
    "import scipy.stats as stats\n",
    "from scipy.stats import binom\n"
   ]
  },
  {
   "cell_type": "code",
   "execution_count": 2,
   "metadata": {},
   "outputs": [],
   "source": [
    "os.getcwd()\n",
    "os.chdir(\"/Users/susheel/Documents/GitHub/statistics-for-data-scientists/data\")   #FILE DIRECTORY IN QUOTES\n",
    "#os.listdir()"
   ]
  },
  {
   "cell_type": "code",
   "execution_count": 46,
   "metadata": {
    "collapsed": true
   },
   "outputs": [
    {
     "name": "stderr",
     "output_type": "stream",
     "text": [
      "<ipython-input-46-085c5f7b72ec>:39: MatplotlibDeprecationWarning: Adding an axes using the same arguments as a previous axes currently reuses the earlier instance.  In a future version, a new instance will always be created and returned.  Meanwhile, this warning can be suppressed, and the future behavior ensured, by passing a unique label to each axes instance.\n",
      "  plt.subplot(3, 1, 1).title.set_text('Data')\n",
      "<ipython-input-46-085c5f7b72ec>:43: MatplotlibDeprecationWarning: Adding an axes using the same arguments as a previous axes currently reuses the earlier instance.  In a future version, a new instance will always be created and returned.  Meanwhile, this warning can be suppressed, and the future behavior ensured, by passing a unique label to each axes instance.\n",
      "  plt.subplot(3, 1, 2).title.set_text('Mean of 5')\n",
      "<ipython-input-46-085c5f7b72ec>:47: MatplotlibDeprecationWarning: Adding an axes using the same arguments as a previous axes currently reuses the earlier instance.  In a future version, a new instance will always be created and returned.  Meanwhile, this warning can be suppressed, and the future behavior ensured, by passing a unique label to each axes instance.\n",
      "  plt.subplot(3, 1, 3).title.set_text('Mean of 20')\n"
     ]
    },
    {
     "data": {
      "image/png": "[encoded data removed]",
      "text/plain": [
       "<Figure size 432x288 with 3 Axes>"
      ]
     },
     "metadata": {
      "needs_background": "light"
     },
     "output_type": "display_data"
    }
   ],
   "source": [
    "# TASK: demonstrate Central Limit Theorem from sample of 5 and 20 with histograms\n",
    "\n",
    "df = p.read_csv(filepath_or_buffer = \"loans_income.csv\")\n",
    "#read in the datafile\n",
    "\n",
    "sampled_df = p.DataFrame()\n",
    "sampled_df['income'], sampled_df['type'] = df['x'].sample(n = 1000, replace = True), 'data_dist'\n",
    "#simple random sample of 1000 values from dataset, this is just to show the DATA DISTRIBUTION and how its DISTRIBUTION is different from the SAMPLING DISTRIBUTION\n",
    "\n",
    "\n",
    "\n",
    "sample_size = 5\n",
    "num_samples = 1000\n",
    "sampling_results_5 = p.DataFrame({'mean': np.zeros(num_samples)})\n",
    "\n",
    "for sample_num in range(num_samples): \n",
    "    sample = df.sample(sample_size)\n",
    "    sampling_results_5.loc[sample_num, 'mean'] = sample['x'].mean()\n",
    "#sample of means of 5 values\n",
    "#https://statsthinking21.github.io/statsthinking21-python/06-Sampling.html\n",
    "\n",
    "sample_size = 20\n",
    "num_samples = 1000\n",
    "sampling_results_20 = p.DataFrame({'mean': np.zeros(num_samples)})\n",
    "\n",
    "for sample_num in range(num_samples):\n",
    "    sample = df.sample(sample_size)\n",
    "    sampling_results_20.loc[sample_num, 'mean'] = sample['x'].mean()\n",
    "#sample of means of 20 values\n",
    "\n",
    "sampling_results_5 = sampling_results_5.rename(columns = {'mean': 'income'})\n",
    "sampling_results_20 = sampling_results_20.rename(columns = {'mean': 'income'})\n",
    "\n",
    "sampling_results_5['type'] = 'mean_of_5'\n",
    "sampling_results_20['type'] = 'mean_of_20'\n",
    "\n",
    "plt.subplot(3, 1, 1)\n",
    "plt.hist(sampled_df['income'], bins = 40)\n",
    "plt.subplot(3, 1, 1).title.set_text('Data')\n",
    "\n",
    "plt.subplot(3, 1, 2)\n",
    "plt.hist(sampling_results_5['income'], bins = 40)\n",
    "plt.subplot(3, 1, 2).title.set_text('Mean of 5')\n",
    "\n",
    "plt.subplot(3, 1, 3)\n",
    "plt.hist(sampling_results_20['income'], bins = 40)\n",
    "plt.subplot(3, 1, 3).title.set_text('Mean of 20')\n",
    "#not the best way to plot but a different way than chapter 1, and best to suppress the warnings and increase vertical spacing between the histograms"
   ]
  },
  {
   "cell_type": "code",
   "execution_count": 50,
   "metadata": {},
   "outputs": [
    {
     "name": "stdout",
     "output_type": "stream",
     "text": [
      "62000.0\n"
     ]
    },
    {
     "data": {
      "text/plain": [
       "(array([3.00e+00, 1.00e+00, 3.61e+02, 1.93e+02, 4.72e+02, 3.84e+02,\n",
       "        8.57e+03, 1.30e+01, 2.00e+00, 1.00e+00]),\n",
       " array([60500. , 60739.5, 60979. , 61218.5, 61458. , 61697.5, 61937. ,\n",
       "        62176.5, 62416. , 62655.5, 62895. ]),\n",
       " <BarContainer object of 10 artists>)"
      ]
     },
     "execution_count": 50,
     "metadata": {},
     "output_type": "execute_result"
    },
    {
     "data": {
      "image/png": "[encoded data removed]",
      "text/plain": [
       "<Figure size 432x288 with 1 Axes>"
      ]
     },
     "metadata": {
      "needs_background": "light"
     },
     "output_type": "display_data"
    }
   ],
   "source": [
    "#TASK:  compare median of income from original loans dataset vs a bootstrapped sample\n",
    "\n",
    "print(np.median(df['x']))\n",
    "#62000\n",
    "\n",
    "#df = (df, )\n",
    "#samples must be in a sequence\n",
    "\n",
    "sample_median = []\n",
    "for i in range(10000): \n",
    "    sample_n = np.random.choice(df['x'], size = len(df))\n",
    "    sample_median.append(np.median(sample_n))\n",
    "    \n",
    "plt.hist(sample_median)\n",
    "#it looks like the bootstrap method in scipy is mainly used to calculate confidence intervals of a statistic, in this case, i just wanted the statistic\n",
    "#REFERENCE: https://datasciencechalktalk.wordpress.com/2019/11/12/bootstrap-sampling-an-implementation-with-python/"
   ]
  },
  {
   "cell_type": "code",
   "execution_count": 4,
   "metadata": {},
   "outputs": [
    {
     "data": {
      "image/png": "[encoded data removed]",
      "text/plain": [
       "<Figure size 432x288 with 1 Axes>"
      ]
     },
     "metadata": {
      "needs_background": "light"
     },
     "output_type": "display_data"
    }
   ],
   "source": [
    "#TASK:  plot QQ graph for 100 random numbers from a normal distribution\n",
    "\n",
    "norm_samp = np.random.normal(size = 100)\n",
    "stats.probplot(norm_samp, dist=\"norm\", plot=plt)\n",
    "plt.show()"
   ]
  },
  {
   "cell_type": "code",
   "execution_count": 14,
   "metadata": {
    "scrolled": true
   },
   "outputs": [
    {
     "name": "stderr",
     "output_type": "stream",
     "text": [
      "<ipython-input-14-eefcaf7c0aa3>:3: RuntimeWarning: divide by zero encountered in log\n",
      "  rand_samp = np.log(rand_samp)\n",
      "/opt/anaconda3/lib/python3.8/site-packages/numpy/lib/function_base.py:2474: RuntimeWarning: invalid value encountered in subtract\n",
      "  X -= avg[:, None]\n"
     ]
    },
    {
     "data": {
      "image/png": "[encoded data removed]",
      "text/plain": [
       "<Figure size 432x288 with 1 Axes>"
      ]
     },
     "metadata": {
      "needs_background": "light"
     },
     "output_type": "display_data"
    }
   ],
   "source": [
    "#TASK: plot QQ graph for random, possibly asymmetric distribution, values\n",
    "rand_samp = random.randint(100, size = 100)\n",
    "rand_samp = np.log(rand_samp)\n",
    "stats.probplot(rand_samp, dist=\"norm\", plot=plt)\n",
    "plt.show()\n",
    "\n",
    "#not the best values and graph but it can be seen that with randomly generated numbers, it wouldn't follow a normal distribution"
   ]
  },
  {
   "cell_type": "code",
   "execution_count": 16,
   "metadata": {},
   "outputs": [
    {
     "data": {
      "text/plain": [
       "0.017587946605721567"
      ]
     },
     "execution_count": 16,
     "metadata": {},
     "output_type": "execute_result"
    }
   ],
   "source": [
    "#TASK: use binomial probabilities to answer the following: if the probability of a click converting to a sale in 0.02, what is the probability of observing 0 sales in 200 clicks? \n",
    "\n",
    "binom.pmf(k = 0, n = 200, p = 0.02)\n",
    "#probability of observing 0 sales in 200 clicks when the probability of converting a click to a sale is 0.02, is 1.7%"
   ]
  },
  {
   "cell_type": "code",
   "execution_count": 19,
   "metadata": {},
   "outputs": [
    {
     "data": {
      "text/plain": [
       "0.9271"
      ]
     },
     "execution_count": 19,
     "metadata": {},
     "output_type": "execute_result"
    }
   ],
   "source": [
    "#TASK: use binomial probabilities to answer the following: probability of observing two or fewer successes in 5 trials, where the probability of success for each trial is 0.1\n",
    "\n",
    "1 - binom.pmf(k = 2, n = 5, p = 0.1)\n",
    "#TODO: thought this would've worked since it's the other part of the probability mass function"
   ]
  },
  {
   "cell_type": "code",
   "execution_count": 21,
   "metadata": {},
   "outputs": [
    {
     "data": {
      "text/plain": [
       "array([2, 4, 3, 2, 3, 0, 3, 3, 3, 2, 0, 1, 3, 0, 1, 5, 0, 3, 4, 3, 1, 0,\n",
       "       3, 2, 4, 2, 3, 4, 1, 1, 0, 2, 2, 2, 1, 1, 3, 1, 1, 3, 3, 2, 0, 0,\n",
       "       1, 6, 0, 1, 2, 3, 3, 3, 1, 0, 1, 2, 3, 3, 2, 2, 0, 0, 1, 2, 2, 1,\n",
       "       1, 1, 2, 0, 1, 1, 1, 1, 2, 2, 4, 2, 3, 2, 2, 2, 1, 2, 2, 2, 2, 1,\n",
       "       2, 3, 4, 4, 1, 2, 2, 3, 4, 1, 1, 0])"
      ]
     },
     "execution_count": 21,
     "metadata": {},
     "output_type": "execute_result"
    }
   ],
   "source": [
    "#TASK: poisson distribution with rate of 2\n",
    "random.poisson(lam = 2, size = 100)"
   ]
  }
 ],
 "metadata": {
  "kernelspec": {
   "display_name": "Python 3",
   "language": "python",
   "name": "python3"
  },
  "language_info": {
   "codemirror_mode": {
    "name": "ipython",
    "version": 3
   },
   "file_extension": ".py",
   "mimetype": "text/x-python",
   "name": "python",
   "nbconvert_exporter": "python",
   "pygments_lexer": "ipython3",
   "version": "3.8.5"
  }
 },
 "nbformat": 4,
 "nbformat_minor": 4
}
