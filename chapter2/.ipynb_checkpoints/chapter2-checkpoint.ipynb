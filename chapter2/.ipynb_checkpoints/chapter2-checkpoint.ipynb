{
 "cells": [
  {
   "cell_type": "code",
   "execution_count": 14,
   "metadata": {},
   "outputs": [],
   "source": [
    "#import required packages\n",
    "\n",
    "import os\n",
    "import pandas as p\n",
    "import numpy as np"
   ]
  },
  {
   "cell_type": "code",
   "execution_count": 2,
   "metadata": {},
   "outputs": [],
   "source": [
    "os.getcwd()\n",
    "os.chdir(\"/Users/susheel/Documents/GitHub/statistics-for-data-scientists/data\")   #FILE DIRECTORY IN QUOTES\n",
    "#os.listdir()"
   ]
  },
  {
   "cell_type": "code",
   "execution_count": 21,
   "metadata": {},
   "outputs": [],
   "source": [
    "# TASK: demonstrate Central Limit Theorem from sample of 5 and 20 with histograms\n",
    "\n",
    "df = p.read_csv(filepath_or_buffer = \"loans_income.csv\")\n",
    "#read in the datafile\n",
    "\n",
    "sampled_df = p.DataFrame()\n",
    "sampled_df['income'], sampled_df['type'] = df['x'].sample(n = 1000, replace = True), 'data_dist'\n",
    "#simple random sample of 1000 values from dataset, this is just to show the DATA DISTRIBUTION and how its DISTRIBUTION is different from the SAMPLING DISTRIBUTION\n",
    "\n",
    "\n",
    "\n",
    "sample_size = 5\n",
    "num_samples = 1000\n",
    "sampling_results_5 = p.DataFrame({'mean': np.zeros(num_samples)})\n",
    "\n",
    "for sample_num in range(num_samples): \n",
    "    sample = df.sample(sample_size)\n",
    "    sampling_results_5.loc[sample_num, 'mean'] = sample['x'].mean()\n",
    "#sample of means of 5 values\n",
    "#https://statsthinking21.github.io/statsthinking21-python/06-Sampling.html\n",
    "\n",
    "sample_size = 20\n",
    "num_samples = 1000\n",
    "sampling_results_20 = p.DataFrame({'mean': np.zeros(num_samples)})\n",
    "\n",
    "for sample_num in range(num_samples):\n",
    "    sample = df.sample(sample_size)\n",
    "    sampling_results_20.loc[sample_num, 'mean'] = sample['x'].mean()\n",
    "#sample of means of 20 values\n",
    "\n",
    "\n",
    "#NEXT STEP IS TO AGG ALL DATA AND DISPLAY it AS THREE HISTOGRAMS BELOW EACH OTHER"
   ]
  }
 ],
 "metadata": {
  "kernelspec": {
   "display_name": "Python 3",
   "language": "python",
   "name": "python3"
  },
  "language_info": {
   "codemirror_mode": {
    "name": "ipython",
    "version": 3
   },
   "file_extension": ".py",
   "mimetype": "text/x-python",
   "name": "python",
   "nbconvert_exporter": "python",
   "pygments_lexer": "ipython3",
   "version": "3.8.5"
  }
 },
 "nbformat": 4,
 "nbformat_minor": 4
}
